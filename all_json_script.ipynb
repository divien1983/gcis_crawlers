{
 "cells": [
  {
   "cell_type": "code",
   "execution_count": 7,
   "metadata": {
    "collapsed": false
   },
   "outputs": [
    {
     "data": {
      "text/plain": [
       "['./done_job/all_json_out_json.json@instance-g3@467640',\n",
       " './done_job/all_json_out_json.json@instance-g1@2689',\n",
       " './done_job/all_json_out_json.json@instance-g3@463081',\n",
       " './done_job/all_json_out_json.json@instance-g1@6881',\n",
       " './done_job/all_json_out_json.json@instance-g2@345361',\n",
       " './done_job/all_json_out_json.json@instance-g1@11556',\n",
       " './done_job/all_json_out_json.json@instance-g3@478743',\n",
       " './done_job/all_json_out_json.json@instance-g2@229610',\n",
       " './done_job/all_json_out_json.json@instance-g4@task5-12#96',\n",
       " './done_job/all_json_out_json.json@instance-g4@task12#97-12#272',\n",
       " './done_job/all_json_out_json.json@instance-g2@344951',\n",
       " './done_job/all_json_out_json.json@instance-g2@345005',\n",
       " './done_job/all_json_out_json.json@instance-g2@241147',\n",
       " './done_job/all_json_out_json.json@instance-g2@232817',\n",
       " './done_job/all_json_out_json.json@instance-g2@238545',\n",
       " './done_job/all_json_out_json.json@instance-g3@572380',\n",
       " './done_job/all_json_out_json.json@instance-g3@460533',\n",
       " './done_job/all_json_out_json.json@instance-g1@119937',\n",
       " './done_job/all_json_out_json.json@instance-g2@240691',\n",
       " './done_job/all_json_out_json.json@instance-g2@240719',\n",
       " './done_job/all_json_out_json.json@instance-g3@476928',\n",
       " './done_job/all_json_out_json.json@instance-g1@2294',\n",
       " './done_job/all_json_out_json.json@instance-g4@task12#273-13#100',\n",
       " './done_job/all_json_out_json.json@instance-g2@236954',\n",
       " './done_job/all_json_out_json.json@instance-g3@471568',\n",
       " './done_job/all_json_out_json.json@instance-g2@229385',\n",
       " './done_job/all_json_out_json.json@instance-g2@235944',\n",
       " './done_job/all_json_out_json.json@instance-g1@1030',\n",
       " './done_job/all_json_out_json.json@instance-g1@9697',\n",
       " './done_job/all_json_out_json.json@instance-g1@5850',\n",
       " './done_job/all_json_out_json.json@instance-g1@4323',\n",
       " './done_job/all_json_out_json.json@instance-g2@348222',\n",
       " './done_job/all_json_out_json.json@instance-g3@471004',\n",
       " './done_job/all_json_out_json.json@instance-g1@474',\n",
       " './done_job/all_json_out_json.json@instance-g1@114869',\n",
       " './done_job/all_json_out_json.json@instance-g3@572355',\n",
       " './done_job/all_json_out_json.json@instance-g1@121312',\n",
       " './done_job/all_json_out_json.json@instance-g1@1586',\n",
       " './done_job/all_json_out_json.json@instance-g4@task0-4',\n",
       " './done_job/all_json_out_json.json@instance-g2@241589',\n",
       " './done_job/all_json_out_json.json@instance-g1@119555',\n",
       " './done_job/all_json_out_json.json@instance-g1@6548',\n",
       " './done_job/all_json_out_json.json@instance-g1@117113',\n",
       " './done_job/all_json_out_json.json@instance-g3@576036',\n",
       " './done_job/all_json_out_json.json@instance-g3@577545',\n",
       " './done_job/all_json_out_json.json@instance-g2@244110',\n",
       " './done_job/all_json_out_json.json@instance-g3@458619']"
      ]
     },
     "execution_count": 7,
     "metadata": {},
     "output_type": "execute_result"
    }
   ],
   "source": [
    "import glob\n",
    "all_jobs = glob.glob('./done_job/*instance-g*')\n",
    "all_jobs"
   ]
  },
  {
   "cell_type": "code",
   "execution_count": 3,
   "metadata": {
    "collapsed": false
   },
   "outputs": [
    {
     "data": {
      "text/plain": [
       "['./done_job/all_json_out_json.json@instance-g3@467640',\n",
       " './done_job/all_json_out_json.json@instance-g1@2689',\n",
       " './done_job/all_json_out_json.json@instance-g3@463081',\n",
       " './done_job/all_json_out_json.json@instance-g1@6881',\n",
       " './done_job/all_json_out_json.json@instance-g2@345361',\n",
       " './done_job/all_json_out_json.json@instance-g1@11556',\n",
       " './done_job/all_json_out_json.json@instance-g3@478743',\n",
       " './done_job/all_json_out_json.json@instance-g2@229610',\n",
       " './done_job/all_json_out_json.json@instance-g4@task5-12#96',\n",
       " './done_job/all_json_out_json.json@instance-g4@task12#97-12#272',\n",
       " './done_job/all_json_out_json.json@instance-g2@344951',\n",
       " './done_job/all_json_out_json.json@instance-g2@345005',\n",
       " './done_job/all_json_out_json.json@instance-g2@241147',\n",
       " './done_job/all_json_out_json.json@instance-g2@232817',\n",
       " './done_job/all_json_out_json.json@instance-g2@238545',\n",
       " './done_job/all_json_out_json.json@instance-g3@572380',\n",
       " './done_job/all_json_out_json.json@instance-g3@460533',\n",
       " './done_job/all_json_out_json.json@instance-g1@119937',\n",
       " './done_job/all_json_out_json.json@instance-g2@240691',\n",
       " './done_job/all_json_out_json.json@instance-g2@240719',\n",
       " './done_job/all_json_out_json.json@instance-g3@476928',\n",
       " './done_job/all_json_out_json.json@instance-g1@2294',\n",
       " './done_job/all_json_out_json.json@instance-g4@task12#273-13#100',\n",
       " './done_job/all_json_out_json.json@instance-g2@236954',\n",
       " './done_job/all_json_out_json.json@instance-g3@471568',\n",
       " './done_job/all_json_out_json.json@instance-g2@229385',\n",
       " './done_job/all_json_out_json.json@instance-g2@235944',\n",
       " './done_job/all_json_out_json.json@instance-g1@1030',\n",
       " './done_job/all_json_out_json.json@instance-g1@9697',\n",
       " './done_job/all_json_out_json.json@instance-g1@5850',\n",
       " './done_job/all_json_out_json.json@instance-g1@4323',\n",
       " './done_job/all_json_out_json.json@instance-g2@348222',\n",
       " './done_job/all_json_out_json.json@instance-g3@471004',\n",
       " './done_job/all_json_out_json.json@instance-g1@474',\n",
       " './done_job/all_json_out_json.json@instance-g1@114869',\n",
       " './done_job/all_json_out_json.json@instance-g3@572355',\n",
       " './done_job/all_json_out_json.json@instance-g1@121312',\n",
       " './done_job/all_json_out_json.json@instance-g1@1586',\n",
       " './done_job/all_json_out_json.json@instance-g4@task0-4',\n",
       " './done_job/all_json_out_json.json@instance-g2@241589',\n",
       " './done_job/all_json_out_json.json@instance-g1@119555',\n",
       " './done_job/all_json_out_json.json@instance-g1@6548',\n",
       " './done_job/all_json_out_json.json@instance-g1@117113',\n",
       " './done_job/all_json_out_json.json@instance-g3@576036',\n",
       " './done_job/all_json_out_json.json@instance-g3@577545',\n",
       " './done_job/all_json_out_json.json@instance-g2@244110',\n",
       " './done_job/all_json_out_json.json@instance-g3@458619']"
      ]
     },
     "execution_count": 3,
     "metadata": {},
     "output_type": "execute_result"
    }
   ],
   "source": [
    "import glob\n",
    "new_jobs1 = glob.glob('./done_job/*instance-g*')\n",
    "new_jobs1"
   ]
  },
  {
   "cell_type": "code",
   "execution_count": 4,
   "metadata": {
    "collapsed": false
   },
   "outputs": [
    {
     "data": {
      "text/plain": [
       "['./done_job/all_json_out_json.json@centos@task13-15',\n",
       " './done_job/all_json_out_json.json@centos@task22-24',\n",
       " './done_job/all_json_out_json.json@centos@task0-9',\n",
       " './done_job/all_json_out_json.json@centos@task19-21',\n",
       " './done_job/all_json_out_json.json@centos@task10-12',\n",
       " './done_job/all_json_out_json.json@centos@task16-18']"
      ]
     },
     "execution_count": 4,
     "metadata": {},
     "output_type": "execute_result"
    }
   ],
   "source": [
    "new_jobs2 = glob.glob('./done_job/*centos*')\n",
    "new_jobs2"
   ]
  },
  {
   "cell_type": "code",
   "execution_count": null,
   "metadata": {
    "collapsed": true
   },
   "outputs": [],
   "source": []
  },
  {
   "cell_type": "code",
   "execution_count": 5,
   "metadata": {
    "collapsed": false
   },
   "outputs": [
    {
     "data": {
      "text/plain": [
       "['./done_job/all_json_out_json.json@x2-g6@547966',\n",
       " './done_job/all_json_out_json.json@x2-g2@173371',\n",
       " './done_job/all_json_out_json.json@x2-g4@340158',\n",
       " './done_job/all_json_out_json.json@x2-g6@584591',\n",
       " './done_job/all_json_out_json.json@x2-g6@624474',\n",
       " './done_job/all_json_out_json.json@x2-g3@295644',\n",
       " './done_job/all_json_out_json.json@x2-g6@601536',\n",
       " './done_job/all_json_out_json.json@x2-g4@359994',\n",
       " './done_job/all_json_out_json.json@x2-g1@84780',\n",
       " './done_job/all_json_out_json.json@x2-g3@290681',\n",
       " './done_job/all_json_out_json.json@x2-g3@260200',\n",
       " './done_job/all_json_out_json.json@x2-g4@364280',\n",
       " './done_job/all_json_out_json.json@x2-g2@191940',\n",
       " './done_job/all_json_out_json.json@x2-g4@377416',\n",
       " './done_job/all_json_out_json.json@x2-g5@428939',\n",
       " './done_job/all_json_out_json.json@x2-g5@510429',\n",
       " './done_job/all_json_out_json.json@x2-g3@242946',\n",
       " './done_job/all_json_out_json.json@x2-g5@507669',\n",
       " './done_job/all_json_out_json.json@x2-g1@40407',\n",
       " './done_job/all_json_out_json.json@x2-g3@222186',\n",
       " './done_job/all_json_out_json.json@x2-g4@416320',\n",
       " './done_job/all_json_out_json.json@x2-g4@398954',\n",
       " './done_job/all_json_out_json.json@x2-g6@605112',\n",
       " './done_job/all_json_out_json.json@x2-g3@312240',\n",
       " './done_job/all_json_out_json.json@x2-g5@448515',\n",
       " './done_job/all_json_out_json.json@x2-g6@572440',\n",
       " './done_job/all_json_out_json.json@x2-g1@15813',\n",
       " './done_job/all_json_out_json.json@x2-g1@104080',\n",
       " './done_job/all_json_out_json.json@x2-g6@532024',\n",
       " './done_job/all_json_out_json.json@x2-g5@520400',\n",
       " './done_job/all_json_out_json.json@x2-g3@273472',\n",
       " './done_job/all_json_out_json.json@x2-g4@400321',\n",
       " './done_job/all_json_out_json.json@x2-g4@411460',\n",
       " './done_job/all_json_out_json.json@x2-g1@36330',\n",
       " './done_job/all_json_out_json.json@x2-g4@325459',\n",
       " './done_job/all_json_out_json.json@x2-g2@138944',\n",
       " './done_job/all_json_out_json.json@x2-g2@208160',\n",
       " './done_job/all_json_out_json.json@x2-g4@355742',\n",
       " './done_job/all_json_out_json.json@x2-g6@550018',\n",
       " './done_job/all_json_out_json.json@x2-g1@68785',\n",
       " './done_job/all_json_out_json.json@x2-g5@496797',\n",
       " './done_job/all_json_out_json.json@x2-g1@52040',\n",
       " './done_job/all_json_out_json.json@x2-g4@395887',\n",
       " './done_job/all_json_out_json.json@x2-g4@344124',\n",
       " './done_job/all_json_out_json.json@x2-g2@124869',\n",
       " './done_job/all_json_out_json.json@x2-g4@338835',\n",
       " './done_job/all_json_out_json.json@x2-g1@12687',\n",
       " './done_job/all_json_out_json.json@x2-g1@80872',\n",
       " './done_job/all_json_out_json.json@x2-g5@468360',\n",
       " './done_job/all_json_out_json.json@x2-g3@238224',\n",
       " './done_job/all_json_out_json.json@x2-g5@450908']"
      ]
     },
     "execution_count": 5,
     "metadata": {},
     "output_type": "execute_result"
    }
   ],
   "source": [
    "new_jobs3 = glob.glob('./done_job/*x2*')\n",
    "new_jobs3"
   ]
  },
  {
   "cell_type": "code",
   "execution_count": 11,
   "metadata": {
    "collapsed": true
   },
   "outputs": [],
   "source": [
    "new_jobs1 = ['./done_job/all_json_out_json.json@instance-g3@467640',\n",
    " './done_job/all_json_out_json.json@instance-g1@2689',\n",
    " './done_job/all_json_out_json.json@instance-g3@463081',\n",
    " './done_job/all_json_out_json.json@instance-g1@6881',\n",
    " './done_job/all_json_out_json.json@instance-g2@345361',\n",
    " './done_job/all_json_out_json.json@instance-g1@11556',\n",
    " './done_job/all_json_out_json.json@instance-g3@478743',\n",
    " './done_job/all_json_out_json.json@instance-g2@229610',\n",
    " #'./done_job/all_json_out_json.json@instance-g4@task5-12#96',\n",
    " #'./done_job/all_json_out_json.json@instance-g4@task12#97-12#272',\n",
    " './done_job/all_json_out_json.json@instance-g2@344951',\n",
    " './done_job/all_json_out_json.json@instance-g2@345005',\n",
    " './done_job/all_json_out_json.json@instance-g2@241147',\n",
    " './done_job/all_json_out_json.json@instance-g2@232817',\n",
    " './done_job/all_json_out_json.json@instance-g2@238545',\n",
    " './done_job/all_json_out_json.json@instance-g3@572380',\n",
    " './done_job/all_json_out_json.json@instance-g3@460533',\n",
    " './done_job/all_json_out_json.json@instance-g1@119937',\n",
    " './done_job/all_json_out_json.json@instance-g2@240691',\n",
    " './done_job/all_json_out_json.json@instance-g2@240719',\n",
    " './done_job/all_json_out_json.json@instance-g3@476928',\n",
    " './done_job/all_json_out_json.json@instance-g1@2294',\n",
    " #'./done_job/all_json_out_json.json@instance-g4@task12#273-13#100',\n",
    " './done_job/all_json_out_json.json@instance-g2@236954',\n",
    " './done_job/all_json_out_json.json@instance-g3@471568',\n",
    " './done_job/all_json_out_json.json@instance-g2@229385',\n",
    " './done_job/all_json_out_json.json@instance-g2@235944',\n",
    " './done_job/all_json_out_json.json@instance-g1@1030',\n",
    " './done_job/all_json_out_json.json@instance-g1@9697',\n",
    " './done_job/all_json_out_json.json@instance-g1@5850',\n",
    " './done_job/all_json_out_json.json@instance-g1@4323',\n",
    " './done_job/all_json_out_json.json@instance-g2@348222',\n",
    " './done_job/all_json_out_json.json@instance-g3@471004',\n",
    " './done_job/all_json_out_json.json@instance-g1@474',\n",
    " './done_job/all_json_out_json.json@instance-g1@114869',\n",
    " './done_job/all_json_out_json.json@instance-g3@572355',\n",
    " './done_job/all_json_out_json.json@instance-g1@121312',\n",
    " './done_job/all_json_out_json.json@instance-g1@1586',\n",
    " #'./done_job/all_json_out_json.json@instance-g4@task0-4',\n",
    " './done_job/all_json_out_json.json@instance-g2@241589',\n",
    " './done_job/all_json_out_json.json@instance-g1@119555',\n",
    " './done_job/all_json_out_json.json@instance-g1@6548',\n",
    " './done_job/all_json_out_json.json@instance-g1@117113',\n",
    " './done_job/all_json_out_json.json@instance-g3@576036',\n",
    " './done_job/all_json_out_json.json@instance-g3@577545',\n",
    " './done_job/all_json_out_json.json@instance-g2@244110',\n",
    " './done_job/all_json_out_json.json@instance-g3@458619']\n",
    "\n",
    "new_jobs2 = ['./done_job/all_json_out_json.json@centos@task13-15',\n",
    " './done_job/all_json_out_json.json@centos@task22-24',\n",
    " './done_job/all_json_out_json.json@centos@task0-9',\n",
    " './done_job/all_json_out_json.json@centos@task19-21',\n",
    " './done_job/all_json_out_json.json@centos@task10-12',\n",
    " './done_job/all_json_out_json.json@centos@task16-18']\n",
    "\n",
    "new_jobs3 = ['./done_job/all_json_out_json.json@x2-g6@547966',\n",
    " './done_job/all_json_out_json.json@x2-g2@173371',\n",
    " './done_job/all_json_out_json.json@x2-g4@340158',\n",
    " './done_job/all_json_out_json.json@x2-g6@584591',\n",
    " './done_job/all_json_out_json.json@x2-g6@624474',\n",
    " './done_job/all_json_out_json.json@x2-g3@295644',\n",
    " './done_job/all_json_out_json.json@x2-g6@601536',\n",
    " './done_job/all_json_out_json.json@x2-g4@359994',\n",
    " './done_job/all_json_out_json.json@x2-g1@84780',\n",
    " './done_job/all_json_out_json.json@x2-g3@290681',\n",
    " './done_job/all_json_out_json.json@x2-g3@260200',\n",
    " './done_job/all_json_out_json.json@x2-g4@364280',\n",
    " './done_job/all_json_out_json.json@x2-g2@191940',\n",
    " './done_job/all_json_out_json.json@x2-g4@377416',\n",
    " './done_job/all_json_out_json.json@x2-g5@428939',\n",
    " './done_job/all_json_out_json.json@x2-g5@510429',\n",
    " './done_job/all_json_out_json.json@x2-g3@242946',\n",
    " './done_job/all_json_out_json.json@x2-g5@507669',\n",
    " './done_job/all_json_out_json.json@x2-g1@40407',\n",
    " './done_job/all_json_out_json.json@x2-g3@222186',\n",
    " './done_job/all_json_out_json.json@x2-g4@416320',\n",
    " './done_job/all_json_out_json.json@x2-g4@398954',\n",
    " './done_job/all_json_out_json.json@x2-g6@605112',\n",
    " './done_job/all_json_out_json.json@x2-g3@312240',\n",
    " './done_job/all_json_out_json.json@x2-g5@448515',\n",
    " './done_job/all_json_out_json.json@x2-g6@572440',\n",
    " './done_job/all_json_out_json.json@x2-g1@15813',\n",
    " './done_job/all_json_out_json.json@x2-g1@104080',\n",
    " './done_job/all_json_out_json.json@x2-g6@532024',\n",
    " './done_job/all_json_out_json.json@x2-g5@520400',\n",
    " './done_job/all_json_out_json.json@x2-g3@273472',\n",
    " './done_job/all_json_out_json.json@x2-g4@400321',\n",
    " './done_job/all_json_out_json.json@x2-g4@411460',\n",
    " './done_job/all_json_out_json.json@x2-g1@36330',\n",
    " './done_job/all_json_out_json.json@x2-g4@325459',\n",
    " './done_job/all_json_out_json.json@x2-g2@138944',\n",
    " './done_job/all_json_out_json.json@x2-g2@208160',\n",
    " './done_job/all_json_out_json.json@x2-g4@355742',\n",
    " './done_job/all_json_out_json.json@x2-g6@550018',\n",
    " './done_job/all_json_out_json.json@x2-g1@68785',\n",
    " './done_job/all_json_out_json.json@x2-g5@496797',\n",
    " './done_job/all_json_out_json.json@x2-g1@52040',\n",
    " './done_job/all_json_out_json.json@x2-g4@395887',\n",
    " './done_job/all_json_out_json.json@x2-g4@344124',\n",
    " './done_job/all_json_out_json.json@x2-g2@124869',\n",
    " './done_job/all_json_out_json.json@x2-g4@338835',\n",
    " './done_job/all_json_out_json.json@x2-g1@12687',\n",
    " './done_job/all_json_out_json.json@x2-g1@80872',\n",
    " './done_job/all_json_out_json.json@x2-g5@468360',\n",
    " './done_job/all_json_out_json.json@x2-g3@238224',\n",
    " './done_job/all_json_out_json.json@x2-g5@450908']\n",
    "\n",
    "jobs = new_jobs1 + new_jobs2 + new_jobs3"
   ]
  },
  {
   "cell_type": "code",
   "execution_count": 34,
   "metadata": {
    "collapsed": true
   },
   "outputs": [],
   "source": [
    "new_jobs = ['./done_job/all_json_out_json.json@centos@task0-9',\n",
    " './done_job/all_json_out_json.json@centos@task10-12',\n",
    " './done_job/all_json_out_json.json@centos@task19-21',\n",
    " './done_job/all_json_out_json.json@centos@task22-24',\n",
    "'./done_job/all_json_out_json.json@instance-g1@1030',\n",
    " './done_job/all_json_out_json.json@instance-g1@114869',\n",
    " './done_job/all_json_out_json.json@instance-g1@11556',\n",
    " './done_job/all_json_out_json.json@instance-g1@117113',\n",
    " './done_job/all_json_out_json.json@instance-g1@119555',\n",
    " './done_job/all_json_out_json.json@instance-g1@119937',\n",
    " './done_job/all_json_out_json.json@instance-g1@121312',\n",
    " './done_job/all_json_out_json.json@instance-g1@1586',\n",
    " './done_job/all_json_out_json.json@instance-g1@2294',\n",
    " './done_job/all_json_out_json.json@instance-g1@2689',\n",
    " './done_job/all_json_out_json.json@instance-g1@4323',\n",
    " './done_job/all_json_out_json.json@instance-g1@474',\n",
    " './done_job/all_json_out_json.json@instance-g1@5850',\n",
    " './done_job/all_json_out_json.json@instance-g1@6548',\n",
    " './done_job/all_json_out_json.json@instance-g1@6881',\n",
    " './done_job/all_json_out_json.json@instance-g1@9697',\n",
    " './done_job/all_json_out_json.json@instance-g2@229385',\n",
    " './done_job/all_json_out_json.json@instance-g2@229610',\n",
    " './done_job/all_json_out_json.json@instance-g2@232817',\n",
    " './done_job/all_json_out_json.json@instance-g2@235944',\n",
    " './done_job/all_json_out_json.json@instance-g2@236954',\n",
    " './done_job/all_json_out_json.json@instance-g2@238545',\n",
    " './done_job/all_json_out_json.json@instance-g2@240691',\n",
    " './done_job/all_json_out_json.json@instance-g2@240719',\n",
    " './done_job/all_json_out_json.json@instance-g2@241147',\n",
    " './done_job/all_json_out_json.json@instance-g2@241589',\n",
    " './done_job/all_json_out_json.json@instance-g2@244110',\n",
    " './done_job/all_json_out_json.json@instance-g2@344951',\n",
    " './done_job/all_json_out_json.json@instance-g2@345005',\n",
    " './done_job/all_json_out_json.json@instance-g2@345361',\n",
    " './done_job/all_json_out_json.json@instance-g2@348222',\n",
    " './done_job/all_json_out_json.json@instance-g3@458619',\n",
    " './done_job/all_json_out_json.json@instance-g3@460533',\n",
    " './done_job/all_json_out_json.json@instance-g3@463081',\n",
    " './done_job/all_json_out_json.json@instance-g3@467640',\n",
    " './done_job/all_json_out_json.json@instance-g3@471004',\n",
    " './done_job/all_json_out_json.json@instance-g3@471568',\n",
    " './done_job/all_json_out_json.json@instance-g3@476928',\n",
    " './done_job/all_json_out_json.json@instance-g3@478743',\n",
    " './done_job/all_json_out_json.json@instance-g3@572355',\n",
    " './done_job/all_json_out_json.json@instance-g3@572380',\n",
    " './done_job/all_json_out_json.json@instance-g3@576036',\n",
    " './done_job/all_json_out_json.json@instance-g3@577545',\n",
    " './done_job/all_json_out_json.json@instance-g4@task0-4',\n",
    " './done_job/all_json_out_json.json@instance-g4@task12#273-13#100',\n",
    " './done_job/all_json_out_json.json@instance-g4@task12#97-12#272',\n",
    " './done_job/all_json_out_json.json@instance-g4@task5-12#96',\n",
    " './done_job/all_json_out_json.json@x2-g1@12687',\n",
    " './done_job/all_json_out_json.json@x2-g1@15813',\n",
    " './done_job/all_json_out_json.json@x2-g1@36330',\n",
    " './done_job/all_json_out_json.json@x2-g1@68785',\n",
    " './done_job/all_json_out_json.json@x2-g1@80872',\n",
    " './done_job/all_json_out_json.json@x2-g2@124869',\n",
    " './done_job/all_json_out_json.json@x2-g2@173371',\n",
    " './done_job/all_json_out_json.json@x2-g3@222186',\n",
    " './done_job/all_json_out_json.json@x2-g3@238224',\n",
    " './done_job/all_json_out_json.json@x2-g3@273472',\n",
    " './done_job/all_json_out_json.json@x2-g3@290681',\n",
    " './done_job/all_json_out_json.json@x2-g4@325459',\n",
    " './done_job/all_json_out_json.json@x2-g4@338835',\n",
    " './done_job/all_json_out_json.json@x2-g4@377416',\n",
    " './done_job/all_json_out_json.json@x2-g4@395887',\n",
    " './done_job/all_json_out_json.json@x2-g5@428939',\n",
    " './done_job/all_json_out_json.json@x2-g5@448515',\n",
    " './done_job/all_json_out_json.json@x2-g5@496797',\n",
    " './done_job/all_json_out_json.json@x2-g5@507669',\n",
    " './done_job/all_json_out_json.json@x2-g6@532024',\n",
    " './done_job/all_json_out_json.json@x2-g6@547966',\n",
    " './done_job/all_json_out_json.json@x2-g6@584591',\n",
    " './done_job/all_json_out_json.json@x2-g6@601536'\n",
    "    \n",
    "]"
   ]
  },
  {
   "cell_type": "code",
   "execution_count": null,
   "metadata": {
    "collapsed": true
   },
   "outputs": [],
   "source": []
  },
  {
   "cell_type": "code",
   "execution_count": 44,
   "metadata": {
    "collapsed": false
   },
   "outputs": [],
   "source": [
    "import glob\n",
    "glob.glob('./done_job/*')\n",
    "jobs = [ \n",
    "'./done_job/all_json_out_json.json@centos@task0-9',\n",
    " './done_job/all_json_out_json.json@centos@task10-12',\n",
    " './done_job/all_json_out_json.json@centos@task13-15',\n",
    " './done_job/all_json_out_json.json@centos@task19-21',\n",
    " './done_job/all_json_out_json.json@centos@task22-24',\n",
    " './done_job/all_json_out_json.json@instance-g1@1030',\n",
    " './done_job/all_json_out_json.json@instance-g1@114869',\n",
    " './done_job/all_json_out_json.json@instance-g1@11556',\n",
    " './done_job/all_json_out_json.json@instance-g1@117113',\n",
    " './done_job/all_json_out_json.json@instance-g1@119555',\n",
    " './done_job/all_json_out_json.json@instance-g1@119937',\n",
    " './done_job/all_json_out_json.json@instance-g1@121312',\n",
    " './done_job/all_json_out_json.json@instance-g1@1586',\n",
    " './done_job/all_json_out_json.json@instance-g1@2294',\n",
    " './done_job/all_json_out_json.json@instance-g1@2689',\n",
    " './done_job/all_json_out_json.json@instance-g1@4323',\n",
    " './done_job/all_json_out_json.json@instance-g1@474',\n",
    " './done_job/all_json_out_json.json@instance-g1@5850',\n",
    " './done_job/all_json_out_json.json@instance-g1@6548',\n",
    " './done_job/all_json_out_json.json@instance-g1@6881',\n",
    " './done_job/all_json_out_json.json@instance-g1@9697',\n",
    " './done_job/all_json_out_json.json@instance-g2@229385',\n",
    " './done_job/all_json_out_json.json@instance-g2@229610',\n",
    " './done_job/all_json_out_json.json@instance-g2@232817',\n",
    " './done_job/all_json_out_json.json@instance-g2@235944',\n",
    " './done_job/all_json_out_json.json@instance-g2@236954',\n",
    " './done_job/all_json_out_json.json@instance-g2@238545',\n",
    " './done_job/all_json_out_json.json@instance-g2@240691',\n",
    " './done_job/all_json_out_json.json@instance-g2@240719',\n",
    " './done_job/all_json_out_json.json@instance-g2@241147',\n",
    " './done_job/all_json_out_json.json@instance-g2@241589',\n",
    " './done_job/all_json_out_json.json@instance-g2@244110',\n",
    " './done_job/all_json_out_json.json@instance-g2@344951',\n",
    " './done_job/all_json_out_json.json@instance-g2@345005',\n",
    " './done_job/all_json_out_json.json@instance-g2@345361',\n",
    " './done_job/all_json_out_json.json@instance-g2@348222',\n",
    " './done_job/all_json_out_json.json@instance-g3@458619',\n",
    " './done_job/all_json_out_json.json@instance-g3@460533',\n",
    " './done_job/all_json_out_json.json@instance-g3@463081',\n",
    " './done_job/all_json_out_json.json@instance-g3@467640',\n",
    " './done_job/all_json_out_json.json@instance-g3@471004',\n",
    " './done_job/all_json_out_json.json@instance-g3@471568',\n",
    " './done_job/all_json_out_json.json@instance-g3@476928',\n",
    " './done_job/all_json_out_json.json@instance-g3@478743',\n",
    " './done_job/all_json_out_json.json@instance-g3@572355',\n",
    " './done_job/all_json_out_json.json@instance-g3@572380',\n",
    " './done_job/all_json_out_json.json@instance-g3@576036',\n",
    " './done_job/all_json_out_json.json@instance-g3@577545',\n",
    "# './done_job/all_json_out_json.json@instance-g4@task0-4',\n",
    "# './done_job/all_json_out_json.json@instance-g4@task12#273-13#100',\n",
    "# './done_job/all_json_out_json.json@instance-g4@task12#97-12#272',\n",
    "# './done_job/all_json_out_json.json@instance-g4@task5-12#96',\n",
    " './done_job/all_json_out_json.json@x2-g1@12687',\n",
    " './done_job/all_json_out_json.json@x2-g1@15813',\n",
    " './done_job/all_json_out_json.json@x2-g1@36330',\n",
    " './done_job/all_json_out_json.json@x2-g1@40407',\n",
    " './done_job/all_json_out_json.json@x2-g1@68785',\n",
    " './done_job/all_json_out_json.json@x2-g1@80872',\n",
    " './done_job/all_json_out_json.json@x2-g1@84780',\n",
    " './done_job/all_json_out_json.json@x2-g2@124869',\n",
    " './done_job/all_json_out_json.json@x2-g2@138944',\n",
    " './done_job/all_json_out_json.json@x2-g2@173371',\n",
    " './done_job/all_json_out_json.json@x2-g2@191940',\n",
    " './done_job/all_json_out_json.json@x2-g3@222186',\n",
    " './done_job/all_json_out_json.json@x2-g3@238224',\n",
    " './done_job/all_json_out_json.json@x2-g3@242946',\n",
    " './done_job/all_json_out_json.json@x2-g3@273472',\n",
    " './done_job/all_json_out_json.json@x2-g3@290681',\n",
    " './done_job/all_json_out_json.json@x2-g3@295644',\n",
    " './done_job/all_json_out_json.json@x2-g4@325459',\n",
    " './done_job/all_json_out_json.json@x2-g4@338835',\n",
    " './done_job/all_json_out_json.json@x2-g4@340158',\n",
    " './done_job/all_json_out_json.json@x2-g4@377416',\n",
    " './done_job/all_json_out_json.json@x2-g4@395887',\n",
    " './done_job/all_json_out_json.json@x2-g4@398954',\n",
    " './done_job/all_json_out_json.json@x2-g5@428939',\n",
    " './done_job/all_json_out_json.json@x2-g5@448515',\n",
    " './done_job/all_json_out_json.json@x2-g5@450908',\n",
    " './done_job/all_json_out_json.json@x2-g5@496797',\n",
    " './done_job/all_json_out_json.json@x2-g5@507669',\n",
    " './done_job/all_json_out_json.json@x2-g5@510429',\n",
    " './done_job/all_json_out_json.json@x2-g6@532024',\n",
    " './done_job/all_json_out_json.json@x2-g6@547966',\n",
    " './done_job/all_json_out_json.json@x2-g6@550018',\n",
    " './done_job/all_json_out_json.json@x2-g6@584591',\n",
    " './done_job/all_json_out_json.json@x2-g6@601536',\n",
    " './done_job/all_json_out_json.json@x2-g6@605112']"
   ]
  },
  {
   "cell_type": "code",
   "execution_count": 35,
   "metadata": {
    "collapsed": false
   },
   "outputs": [
    {
     "data": {
      "text/plain": [
       "['./done_job/all_json_out_json.json@centos@task10-12',\n",
       " './done_job/all_json_out_json.json@centos@task19-21',\n",
       " './done_job/all_json_out_json.json@centos@task22-24',\n",
       " './done_job/all_json_out_json.json@instance-g4@task0-4',\n",
       " './done_job/all_json_out_json.json@instance-g4@task12#273-13#100',\n",
       " './done_job/all_json_out_json.json@instance-g4@task12#97-12#272',\n",
       " './done_job/all_json_out_json.json@instance-g4@task5-12#96',\n",
       " './done_job/all_json_out_json.json@x2-g1@36330',\n",
       " './done_job/all_json_out_json.json@x2-g1@80872',\n",
       " './done_job/all_json_out_json.json@x2-g3@238224',\n",
       " './done_job/all_json_out_json.json@x2-g3@290681',\n",
       " './done_job/all_json_out_json.json@x2-g4@338835',\n",
       " './done_job/all_json_out_json.json@x2-g4@395887',\n",
       " './done_job/all_json_out_json.json@x2-g5@448515',\n",
       " './done_job/all_json_out_json.json@x2-g5@507669',\n",
       " './done_job/all_json_out_json.json@x2-g6@547966',\n",
       " './done_job/all_json_out_json.json@x2-g6@601536']"
      ]
     },
     "execution_count": 35,
     "metadata": {},
     "output_type": "execute_result"
    }
   ],
   "source": [
    "diff_jobs = list(set(new_jobs)-set(jobs))\n",
    "diff_jobs.sort()\n",
    "diff_jobs"
   ]
  },
  {
   "cell_type": "code",
   "execution_count": 6,
   "metadata": {
    "collapsed": false
   },
   "outputs": [
    {
     "data": {
      "text/plain": [
       "['./done_job/all_json_out_json.json@instance-g3@467640',\n",
       " './done_job/all_json_out_json.json@instance-g1@2689',\n",
       " './done_job/all_json_out_json.json@instance-g3@463081',\n",
       " './done_job/all_json_out_json.json@instance-g1@6881',\n",
       " './done_job/all_json_out_json.json@instance-g2@345361',\n",
       " './done_job/all_json_out_json.json@instance-g1@11556',\n",
       " './done_job/all_json_out_json.json@instance-g3@478743',\n",
       " './done_job/all_json_out_json.json@instance-g2@229610',\n",
       " './done_job/all_json_out_json.json@instance-g4@task5-12#96',\n",
       " './done_job/all_json_out_json.json@instance-g4@task12#97-12#272',\n",
       " './done_job/all_json_out_json.json@instance-g2@344951',\n",
       " './done_job/all_json_out_json.json@instance-g2@345005',\n",
       " './done_job/all_json_out_json.json@instance-g2@241147',\n",
       " './done_job/all_json_out_json.json@instance-g2@232817',\n",
       " './done_job/all_json_out_json.json@instance-g2@238545',\n",
       " './done_job/all_json_out_json.json@instance-g3@572380',\n",
       " './done_job/all_json_out_json.json@instance-g3@460533',\n",
       " './done_job/all_json_out_json.json@instance-g1@119937',\n",
       " './done_job/all_json_out_json.json@instance-g2@240691',\n",
       " './done_job/all_json_out_json.json@instance-g2@240719',\n",
       " './done_job/all_json_out_json.json@instance-g3@476928',\n",
       " './done_job/all_json_out_json.json@instance-g1@2294',\n",
       " './done_job/all_json_out_json.json@instance-g4@task12#273-13#100',\n",
       " './done_job/all_json_out_json.json@instance-g2@236954',\n",
       " './done_job/all_json_out_json.json@instance-g3@471568',\n",
       " './done_job/all_json_out_json.json@instance-g2@229385',\n",
       " './done_job/all_json_out_json.json@instance-g2@235944',\n",
       " './done_job/all_json_out_json.json@instance-g1@1030',\n",
       " './done_job/all_json_out_json.json@instance-g1@9697',\n",
       " './done_job/all_json_out_json.json@instance-g1@5850',\n",
       " './done_job/all_json_out_json.json@instance-g1@4323',\n",
       " './done_job/all_json_out_json.json@instance-g2@348222',\n",
       " './done_job/all_json_out_json.json@instance-g3@471004',\n",
       " './done_job/all_json_out_json.json@instance-g1@474',\n",
       " './done_job/all_json_out_json.json@instance-g1@114869',\n",
       " './done_job/all_json_out_json.json@instance-g3@572355',\n",
       " './done_job/all_json_out_json.json@instance-g1@121312',\n",
       " './done_job/all_json_out_json.json@instance-g1@1586',\n",
       " './done_job/all_json_out_json.json@instance-g4@task0-4',\n",
       " './done_job/all_json_out_json.json@instance-g2@241589',\n",
       " './done_job/all_json_out_json.json@instance-g1@119555',\n",
       " './done_job/all_json_out_json.json@instance-g1@6548',\n",
       " './done_job/all_json_out_json.json@instance-g1@117113',\n",
       " './done_job/all_json_out_json.json@instance-g3@576036',\n",
       " './done_job/all_json_out_json.json@instance-g3@577545',\n",
       " './done_job/all_json_out_json.json@instance-g2@244110',\n",
       " './done_job/all_json_out_json.json@instance-g3@458619']"
      ]
     },
     "execution_count": 6,
     "metadata": {},
     "output_type": "execute_result"
    }
   ],
   "source": [
    "new_jobs"
   ]
  },
  {
   "cell_type": "code",
   "execution_count": 12,
   "metadata": {
    "collapsed": true
   },
   "outputs": [],
   "source": [
    "import datetime\n",
    "fname = 'all_json_'+str(datetime.datetime.now())+'.json'\n",
    "with open(fname, 'a') as f:\n",
    "    for j in jobs:\n",
    "        f.write(open(j, 'r').read())"
   ]
  },
  {
   "cell_type": "code",
   "execution_count": 4,
   "metadata": {
    "collapsed": false
   },
   "outputs": [
    {
     "data": {
      "text/plain": [
       "34723"
      ]
     },
     "execution_count": 4,
     "metadata": {},
     "output_type": "execute_result"
    }
   ],
   "source": [
    "6548+(114869-114451)+(241147-228903)+(345005-343354)+(471568-457805)+(572355-572256)"
   ]
  },
  {
   "cell_type": "code",
   "execution_count": 3,
   "metadata": {
    "collapsed": false
   },
   "outputs": [
    {
     "data": {
      "text/plain": [
       "58161"
      ]
     },
     "execution_count": 3,
     "metadata": {},
     "output_type": "execute_result"
    }
   ],
   "source": [
    "9697+(119937-114451)+(244110-228903)+(348222-343354)+(476928-457805)+(576036-572256)"
   ]
  },
  {
   "cell_type": "code",
   "execution_count": 7,
   "metadata": {
    "collapsed": false
   },
   "outputs": [
    {
     "data": {
      "text/plain": [
       "69977"
      ]
     },
     "execution_count": 7,
     "metadata": {},
     "output_type": "execute_result"
    }
   ],
   "source": [
    "# x1版數量\n",
    "11556+(121312-114451)+(246387-228903)+(351203-343354)+(478743-457805)+(577545-572256)"
   ]
  },
  {
   "cell_type": "code",
   "execution_count": 2,
   "metadata": {
    "collapsed": false
   },
   "outputs": [
    {
     "data": {
      "text/plain": [
       "189071"
      ]
     },
     "execution_count": 2,
     "metadata": {},
     "output_type": "execute_result"
    }
   ],
   "source": [
    "# x2版數量\n",
    "15813+(68785-52041)+(124869-104081)+(173371-156121)+(222186-208161)+(273472-260201)+(325459-312241)+(377416-364281)+(428939-416321)+(496797-468361)+(532024-520401)+(584591-572441)"
   ]
  },
  {
   "cell_type": "code",
   "execution_count": 12,
   "metadata": {
    "collapsed": false
   },
   "outputs": [
    {
     "data": {
      "text/plain": [
       "(15813,\n",
       " 16744,\n",
       " 20788,\n",
       " 17250,\n",
       " 14025,\n",
       " 13271,\n",
       " 13218,\n",
       " 13135,\n",
       " 12618,\n",
       " 28436,\n",
       " 11623,\n",
       " 12150)"
      ]
     },
     "execution_count": 12,
     "metadata": {},
     "output_type": "execute_result"
    }
   ],
   "source": [
    "15813,(68785-52041),(124869-104081),(173371-156121),(222186-208161),(273472-260201),(325459-312241),(377416-364281),(428939-416321),(496797-468361),(532024-520401),(584591-572441)"
   ]
  },
  {
   "cell_type": "code",
   "execution_count": 15,
   "metadata": {
    "collapsed": false
   },
   "outputs": [
    {
     "data": {
      "text/plain": [
       "377450"
      ]
     },
     "execution_count": 15,
     "metadata": {},
     "output_type": "execute_result"
    }
   ],
   "source": [
    "# x2版數量\n",
    "36330+(80872-52041)+(137649-104081)+(187937-156121)+(238224-208161)+(290681-260201)+(338835-312241)+(395887-364281)+(448515-416321)+(507669-468361)+(547966-520401)+(601536-572441)"
   ]
  },
  {
   "cell_type": "code",
   "execution_count": 17,
   "metadata": {
    "collapsed": false
   },
   "outputs": [
    {
     "data": {
      "text/plain": [
       "(36330,\n",
       " 28831,\n",
       " 33568,\n",
       " 31816,\n",
       " 30063,\n",
       " 30480,\n",
       " 26594,\n",
       " 31606,\n",
       " 32194,\n",
       " 39308,\n",
       " 27565,\n",
       " 29095)"
      ]
     },
     "execution_count": 17,
     "metadata": {},
     "output_type": "execute_result"
    }
   ],
   "source": [
    "36330,(80872-52041),(137649-104081),(187937-156121),(238224-208161),(290681-260201),(338835-312241),(395887-364281),(448515-416321),(507669-468361),(547966-520401),(601536-572441)"
   ]
  },
  {
   "cell_type": "code",
   "execution_count": 4,
   "metadata": {
    "collapsed": false
   },
   "outputs": [
    {
     "data": {
      "text/plain": [
       "259048"
      ]
     },
     "execution_count": 4,
     "metadata": {},
     "output_type": "execute_result"
    }
   ],
   "source": [
    "189071+69977"
   ]
  },
  {
   "cell_type": "code",
   "execution_count": null,
   "metadata": {
    "collapsed": true
   },
   "outputs": [],
   "source": [
    "        ('合夥', ['lmtdType'], 1, 1),   # 12筆、分1頁\n",
    "        ('合作社', ['factType'], 1, 5), # 94筆、分5頁\n",
    "        ('服務站', ['busmType'], 1, 5),  # 95筆、分5頁\n",
    "        ('賣場', ['busmType'], 1, 7),    # 122筆、分7頁\n",
    "        ('組', ['busmType'], 1, 8),     # 154筆、分8頁\n",
    "        ('公司', ['busmType'], 1, 8),   # 148筆、8頁 # 這個案例經典 # done    \n",
    "        ('超商', ['busmType'], 1, 32),    # 629筆、分32頁\n",
    "        ('處', ['busmType'], 1, 107),     # 2131筆、分107頁\n",
    "        ('便當', ['busmType'], 1, 114),   # 2271筆、分114頁\n",
    "        ('自助餐', ['busmType'], 1, 157), # 3138筆、分157頁\n",
    "        ('所', ['busmType'], 1, 425),     # 8491筆、分425頁\n",
    "        ('部', ['busmType'], 1, 574),     # 11476筆、分574頁\n",
    "        ('記',['busmType'], 1, 848),      # 16957筆、分848頁 目前爬完272頁\n",
    "\n"
   ]
  },
  {
   "cell_type": "code",
   "execution_count": 11,
   "metadata": {
    "collapsed": false
   },
   "outputs": [
    {
     "name": "stdout",
     "output_type": "stream",
     "text": [
      "# = 300  len(dj) 8786\n"
     ]
    }
   ],
   "source": [
    "import glob\n",
    "import pickle\n",
    "with open('./done_job/all_json_out_json.json@centos@task0-9', 'r') as j:\n",
    "    done_qryCond = list()\n",
    "    for i, l in enumerate(j, 1):\n",
    "        t = l.replace('\\n','')\n",
    "        t = t[0:-1]\n",
    "        x = eval(t)\n",
    "        for xi in x:\n",
    "            y = xi['qryCond']\n",
    "            done_qryCond.append(y)\n",
    "        #print(i, ':', y)\n",
    "    else:\n",
    "        print('# =', i, ' len(dj)', len(done_qryCond))\n",
    "        \n",
    "\n"
   ]
  },
  {
   "cell_type": "code",
   "execution_count": 22,
   "metadata": {
    "collapsed": false
   },
   "outputs": [
    {
     "data": {
      "text/plain": [
       "26911.285714285714"
      ]
     },
     "execution_count": 22,
     "metadata": {},
     "output_type": "execute_result"
    }
   ],
   "source": [
    "188379 / 7"
   ]
  },
  {
   "cell_type": "code",
   "execution_count": 23,
   "metadata": {
    "collapsed": false
   },
   "outputs": [
    {
     "data": {
      "text/plain": [
       "447427"
      ]
     },
     "execution_count": 23,
     "metadata": {},
     "output_type": "execute_result"
    }
   ],
   "source": [
    "377450+69977"
   ]
  },
  {
   "cell_type": "code",
   "execution_count": 24,
   "metadata": {
    "collapsed": false
   },
   "outputs": [
    {
     "data": {
      "text/plain": [
       "546213"
      ]
     },
     "execution_count": 24,
     "metadata": {},
     "output_type": "execute_result"
    }
   ],
   "source": [
    "447427 + 98786"
   ]
  },
  {
   "cell_type": "code",
   "execution_count": 25,
   "metadata": {
    "collapsed": false
   },
   "outputs": [
    {
     "data": {
      "text/plain": [
       "239279"
      ]
     },
     "execution_count": 25,
     "metadata": {},
     "output_type": "execute_result"
    }
   ],
   "source": [
    "686706 - 447427"
   ]
  },
  {
   "cell_type": "code",
   "execution_count": 26,
   "metadata": {
    "collapsed": false
   },
   "outputs": [
    {
     "data": {
      "text/plain": [
       "8.891399784477038"
      ]
     },
     "execution_count": 26,
     "metadata": {},
     "output_type": "execute_result"
    }
   ],
   "source": [
    "239279 / 26911.285714285714"
   ]
  },
  {
   "cell_type": "code",
   "execution_count": null,
   "metadata": {
    "collapsed": true
   },
   "outputs": [],
   "source": [
    "import glob\n",
    "import pickle\n",
    "with open('./done_job/all_json_2017-11-22 16:32:43.056200.json', 'r') as j:\n",
    "    done_qryCond = list()\n",
    "    for i, l in enumerate(j, 1):\n",
    "        t = l.replace('\\n','')\n",
    "        t = t[0:-1]\n",
    "        x = eval(t)\n",
    "        for xi in x:\n",
    "            y = xi['qryCond']\n",
    "            done_qryCond.append(y)\n",
    "        #print(i, ':', y)\n",
    "    else:\n",
    "        print('# =', i, ' len(dj)', len(done_qryCond))\n",
    "        "
   ]
  }
 ],
 "metadata": {
  "anaconda-cloud": {},
  "kernelspec": {
   "display_name": "Python [conda env:py35]",
   "language": "python",
   "name": "conda-env-py35-py"
  },
  "language_info": {
   "codemirror_mode": {
    "name": "ipython",
    "version": 3
   },
   "file_extension": ".py",
   "mimetype": "text/x-python",
   "name": "python",
   "nbconvert_exporter": "python",
   "pygments_lexer": "ipython3",
   "version": "3.5.2"
  }
 },
 "nbformat": 4,
 "nbformat_minor": 1
}
