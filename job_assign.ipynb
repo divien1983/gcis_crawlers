{
 "cells": [
  {
   "cell_type": "code",
   "execution_count": 3,
   "metadata": {
    "collapsed": false
   },
   "outputs": [
    {
     "name": "stdout",
     "output_type": "stream",
     "text": [
      "i: 104080    ./task_ini_toy/instance-g1_v10.x2_job.pkl\n",
      "i: 208160    ./task_ini_toy/instance-g1.x_v10.x2_job.pkl\n",
      "i: 312240    ./task_ini_toy/instance-g2_v10.x2_job.pkl\n",
      "i: 416320    ./task_ini_toy/instance-g2.x_v10.x2_job.pkl\n",
      "i: 520400    ./task_ini_toy/instance-g3_v10.x2_job.pkl\n",
      "i: 624480    ./task_ini_toy/instance-g3.x_v10.x2_job.pkl\n",
      "i: 728560    ./task_ini_toy/instance-g4_v10.x2_job.pkl\n",
      "i: 832640    ./task_ini_toy/instance-g4.x_v10.x2_job.pkl\n",
      "i: 936720    ./task_ini_toy/instance-g5_v10.x2_job.pkl\n",
      "i: 1040800    ./task_ini_toy/instance-g5.x_v10.x2_job.pkl\n",
      "i: 1144880    ./task_ini_toy/instance-g6_v10.x2_job.pkl\n",
      "i: 1248960    ./task_ini_toy/instance-g6.x_v10.x2_job.pkl\n",
      "i: 1353040    ./task_ini_toy/instance-g7_v10.x2_job.pkl\n",
      "i: 1457120    ./task_ini_toy/instance-g7.x_v10.x2_job.pkl\n",
      "i: 1561200    ./task_ini_toy/instance-g8_v10.x2_job.pkl\n",
      "i: 1603511    ./task_ini_toy/instance-g8.x_v10.x2_job.pkl\n"
     ]
    }
   ],
   "source": [
    "# 產生crawler_v10x2.py 所需要的job.pkl檔\n",
    "import pickle\n",
    "\n",
    "task_dir = './task_ini_toy/'\n",
    "\n",
    "# 讀入uniform_nu.csv檔，uniform_nu.csv內記載著所有要查詢的統編號碼\n",
    "with open('uniform_nu.csv', 'r') as unif:\n",
    "    task = list()\n",
    "    split = 104080\n",
    "    task_inst = 0\n",
    "    sub_task = ''\n",
    "\n",
    "    \n",
    "        \n",
    "    for i, u in enumerate(unif, 1):\n",
    "        # 對每個統編都去將phase 1的所有類型(公司、分公司、商業、工廠、有限合夥)勾選起來\n",
    "        task.append((str(i), str(u.replace(',\\n','')), ['cmpyType', 'brCmpyType', 'busmType', 'factType', 'lmtdType'], 1, 1))\n",
    "        \n",
    "        # 每split筆寫入一個檔案，檔名按照1, 1.x, 2, 2.x, 3, 3.x ...的順序改變\n",
    "        if i % split == 0:\n",
    "            print('i:', i, '  ', task_dir+'instance-g'+str((task_inst//2)+1)+sub_task+'_v10.x2_job.pkl')\n",
    "            with open(task_dir+'instance-g'+str((task_inst//2)+1)+sub_task+'_v10.x2_job.pkl', 'wb') as pklout:  \n",
    "                pickle.dump(task, pklout)\n",
    "                task = list()\n",
    "                task_inst += 1\n",
    "                if task_inst%2:\n",
    "                    sub_task = '.x'\n",
    "                else:\n",
    "                    sub_task = ''\n",
    "\n",
    "    else:\n",
    "        print('i:', i, '  ', task_dir+'instance-g'+str((task_inst//2)+1)+sub_task+'_v10.x2_job.pkl')\n",
    "        with open(task_dir+'instance-g'+str((task_inst//2)+1)+sub_task+'_v10.x2_job.pkl', 'wb') as pklout:  \n",
    "            pickle.dump(task, pklout)\n",
    "            task = list() "
   ]
  },
  {
   "cell_type": "code",
   "execution_count": null,
   "metadata": {
    "collapsed": true
   },
   "outputs": [],
   "source": []
  }
 ],
 "metadata": {
  "anaconda-cloud": {},
  "kernelspec": {
   "display_name": "Python [conda env:py35]",
   "language": "python",
   "name": "conda-env-py35-py"
  },
  "language_info": {
   "codemirror_mode": {
    "name": "ipython",
    "version": 3
   },
   "file_extension": ".py",
   "mimetype": "text/x-python",
   "name": "python",
   "nbconvert_exporter": "python",
   "pygments_lexer": "ipython3",
   "version": "3.5.2"
  }
 },
 "nbformat": 4,
 "nbformat_minor": 1
}
